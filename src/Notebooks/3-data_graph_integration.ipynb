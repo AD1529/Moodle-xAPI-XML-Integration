{
 "cells": [
  {
   "cell_type": "code",
   "id": "initial_id",
   "metadata": {
    "collapsed": true,
    "ExecuteTime": {
     "end_time": "2025-10-21T10:38:50.961221Z",
     "start_time": "2025-10-21T10:38:50.721418Z"
    }
   },
   "source": [
    "from src.MoodleArchiveAlgorithms.moodle_archive import MoodleArchive\n",
    "from src.MoodleArchiveAlgorithms.question_bank import *\n",
    "import src.MoodleArchiveAlgorithms.graph_structure as gs\n",
    "\n",
    "import pandas as pd\n",
    "import networkx as nx\n",
    "from datetime import datetime"
   ],
   "outputs": [],
   "execution_count": 1
  },
  {
   "metadata": {
    "ExecuteTime": {
     "end_time": "2025-10-21T10:38:52.350536Z",
     "start_time": "2025-10-21T10:38:52.347713Z"
    }
   },
   "cell_type": "code",
   "source": [
    "courseID = 153\n",
    "#role = 'Editing Teacher'\n",
    "role = 'Student'"
   ],
   "id": "f1b18e8adbe02514",
   "outputs": [],
   "execution_count": 2
  },
  {
   "metadata": {
    "ExecuteTime": {
     "end_time": "2025-10-21T10:38:53.074929Z",
     "start_time": "2025-10-21T10:38:52.959120Z"
    }
   },
   "cell_type": "code",
   "source": [
    "ARCHIVE_FILENAME = 'sauvegarde-moodle2-course-153-lu2st031_-_s1-23-20250408-1524-nu.mbz'\n",
    "ARCHIVE_PATH = os.path.join(\"../Datasets\", \"MoodleCourseBackups\")\n",
    "ARCHIVE_DESTINATION_PATH = os.path.join(\"../Datasets\", \"MoodleCourseArchives\")\n",
    "archive = MoodleArchive(ARCHIVE_PATH, ARCHIVE_FILENAME, ARCHIVE_DESTINATION_PATH)"
   ],
   "id": "3f4d04fd6720994f",
   "outputs": [
    {
     "name": "stdout",
     "output_type": "stream",
     "text": [
      "The file '../Datasets/MoodleCourseArchives/MoodleCourseID153' already exists.\n"
     ]
    }
   ],
   "execution_count": 3
  },
  {
   "metadata": {
    "ExecuteTime": {
     "end_time": "2025-10-21T10:38:53.783605Z",
     "start_time": "2025-10-21T10:38:53.766646Z"
    }
   },
   "cell_type": "code",
   "source": [
    "# course chaptering\n",
    "gs.course_chaptering(archive)"
   ],
   "id": "c188b33ddcd94029",
   "outputs": [
    {
     "data": {
      "text/plain": [
       "<IPython.core.display.Markdown object>"
      ],
      "text/markdown": "Tick the sections that correspond to course chapters: "
     },
     "metadata": {},
     "output_type": "display_data"
    },
    {
     "data": {
      "text/plain": [
       "Checkbox(value=True, description='General')"
      ],
      "application/vnd.jupyter.widget-view+json": {
       "version_major": 2,
       "version_minor": 0,
       "model_id": "c5f20625fbbb454098a91cf0e498014a"
      }
     },
     "metadata": {},
     "output_type": "display_data"
    },
    {
     "data": {
      "text/plain": [
       "Checkbox(value=True, description='Informations générales')"
      ],
      "application/vnd.jupyter.widget-view+json": {
       "version_major": 2,
       "version_minor": 0,
       "model_id": "a5fd998bf02d4ff5a2e5219b36d38444"
      }
     },
     "metadata": {},
     "output_type": "display_data"
    },
    {
     "data": {
      "text/plain": [
       "Checkbox(value=True, description='1 - Expressions et variables en Python')"
      ],
      "application/vnd.jupyter.widget-view+json": {
       "version_major": 2,
       "version_minor": 0,
       "model_id": "491621ab0ae646e8b7ceea858fbede87"
      }
     },
     "metadata": {},
     "output_type": "display_data"
    },
    {
     "data": {
      "text/plain": [
       "Checkbox(value=True, description='2 - Les listes')"
      ],
      "application/vnd.jupyter.widget-view+json": {
       "version_major": 2,
       "version_minor": 0,
       "model_id": "398c0d0fc46e4cbf826d550657de7dee"
      }
     },
     "metadata": {},
     "output_type": "display_data"
    },
    {
     "data": {
      "text/plain": [
       "Checkbox(value=True, description='3 - Les branchements')"
      ],
      "application/vnd.jupyter.widget-view+json": {
       "version_major": 2,
       "version_minor": 0,
       "model_id": "1a815fc7bcba48a9b58571748738eb45"
      }
     },
     "metadata": {},
     "output_type": "display_data"
    },
    {
     "data": {
      "text/plain": [
       "Checkbox(value=True, description=\"4 - L'itération\")"
      ],
      "application/vnd.jupyter.widget-view+json": {
       "version_major": 2,
       "version_minor": 0,
       "model_id": "642b3e2183ba489ba338b2dcf1b1d860"
      }
     },
     "metadata": {},
     "output_type": "display_data"
    },
    {
     "data": {
      "text/plain": [
       "Checkbox(value=True, description=\"5 - Les messages d'erreurs\")"
      ],
      "application/vnd.jupyter.widget-view+json": {
       "version_major": 2,
       "version_minor": 0,
       "model_id": "bc3318fbd14f41d5a1f38d1bada6a6ae"
      }
     },
     "metadata": {},
     "output_type": "display_data"
    },
    {
     "data": {
      "text/plain": [
       "Checkbox(value=True, description='6 - Spyder')"
      ],
      "application/vnd.jupyter.widget-view+json": {
       "version_major": 2,
       "version_minor": 0,
       "model_id": "f3465b204a374b309f5df2cbbf2a258e"
      }
     },
     "metadata": {},
     "output_type": "display_data"
    },
    {
     "data": {
      "text/plain": [
       "Checkbox(value=True, description='7- Les fonctions')"
      ],
      "application/vnd.jupyter.widget-view+json": {
       "version_major": 2,
       "version_minor": 0,
       "model_id": "b7707d2c4fdb4e91b5c84bb627f7985b"
      }
     },
     "metadata": {},
     "output_type": "display_data"
    },
    {
     "data": {
      "text/plain": [
       "Checkbox(value=True, description='8 - Algorithmes et tests')"
      ],
      "application/vnd.jupyter.widget-view+json": {
       "version_major": 2,
       "version_minor": 0,
       "model_id": "246b4a9ce535466497a2cfb0d3943548"
      }
     },
     "metadata": {},
     "output_type": "display_data"
    },
    {
     "data": {
      "text/plain": [
       "Checkbox(value=True, description='9 - Les graphiques')"
      ],
      "application/vnd.jupyter.widget-view+json": {
       "version_major": 2,
       "version_minor": 0,
       "model_id": "5bed6dd54f9145f9a9235cd9f45223ec"
      }
     },
     "metadata": {},
     "output_type": "display_data"
    },
    {
     "data": {
      "text/plain": [
       "Checkbox(value=True, description=\"10 - Correction d'erreurs\")"
      ],
      "application/vnd.jupyter.widget-view+json": {
       "version_major": 2,
       "version_minor": 0,
       "model_id": "b7c1a7be8bee463dbb507224a059fd34"
      }
     },
     "metadata": {},
     "output_type": "display_data"
    },
    {
     "data": {
      "text/plain": [
       "Checkbox(value=True, description='Interrogations')"
      ],
      "application/vnd.jupyter.widget-view+json": {
       "version_major": 2,
       "version_minor": 0,
       "model_id": "f3f0498179f1466596be7593bf5c7888"
      }
     },
     "metadata": {},
     "output_type": "display_data"
    },
    {
     "data": {
      "text/plain": [
       "Checkbox(value=True, description='Exos supplémentaires')"
      ],
      "application/vnd.jupyter.widget-view+json": {
       "version_major": 2,
       "version_minor": 0,
       "model_id": "ea2dcdc0a09f4a04991c4fc95abe589e"
      }
     },
     "metadata": {},
     "output_type": "display_data"
    },
    {
     "data": {
      "text/plain": [
       "Checkbox(value=True, description='Examen')"
      ],
      "application/vnd.jupyter.widget-view+json": {
       "version_major": 2,
       "version_minor": 0,
       "model_id": "53dc51fde8e24b048e9b808b1f426a80"
      }
     },
     "metadata": {},
     "output_type": "display_data"
    }
   ],
   "execution_count": 4
  },
  {
   "metadata": {
    "ExecuteTime": {
     "end_time": "2025-10-21T10:38:55.850414Z",
     "start_time": "2025-10-21T10:38:55.845903Z"
    }
   },
   "cell_type": "code",
   "source": [
    "course_structure = gs.create_course_structure(archive)\n",
    "#figure = gs.plot_graph(course_structure, figsize=(180, 30), textlen=35)"
   ],
   "id": "56460e8045bc65e4",
   "outputs": [],
   "execution_count": 5
  },
  {
   "metadata": {
    "ExecuteTime": {
     "end_time": "2025-10-21T10:38:59.472042Z",
     "start_time": "2025-10-21T10:38:58.734071Z"
    }
   },
   "cell_type": "code",
   "source": [
    "PATH = '../Datasets/xAPI_logs/PREPROCESSED_files'\n",
    "df = pd.read_pickle(f\"{PATH}/cours_{courseID}.pkl\")"
   ],
   "id": "f44fac9ac7ced1a0",
   "outputs": [],
   "execution_count": 6
  },
  {
   "metadata": {
    "ExecuteTime": {
     "end_time": "2025-10-21T10:39:00.773034Z",
     "start_time": "2025-10-21T10:39:00.589541Z"
    }
   },
   "cell_type": "code",
   "source": [
    "df = df.loc[(df.CourseID == courseID) & ((df.Role == 'Student')\n",
    "                                         | (df.Role == 'Editing Teacher')\n",
    "                                         | (df.Role == 'Teacher'))]\n",
    "\n",
    "df = df[['User', 'Timestamp', 'Context', 'Description', 'Component',\n",
    "         'Event_name', 'ObjectID', 'ItemID', 'QuestionID', 'Status', 'Role', 'Group']]"
   ],
   "id": "346a1b63306d8343",
   "outputs": [],
   "execution_count": 7
  },
  {
   "metadata": {
    "ExecuteTime": {
     "end_time": "2025-10-21T10:39:02.306408Z",
     "start_time": "2025-10-21T10:39:01.974636Z"
    }
   },
   "cell_type": "code",
   "source": [
    "df = gs.integrate_course_structure(df, course_structure, archive)\n",
    "df = df.loc[df.Role == role].copy()"
   ],
   "id": "2bb2368502f117f1",
   "outputs": [],
   "execution_count": 8
  },
  {
   "metadata": {},
   "cell_type": "code",
   "source": [
    "PATH_GRAPH = '../Datasets/Graph_Integrated_Logs'\n",
    "df.to_pickle(f\"{PATH_GRAPH}/course_{courseID}_{role}_graph_integrated.pkl\")\n"
   ],
   "id": "8990e5930b59b980",
   "outputs": [],
   "execution_count": null
  },
  {
   "metadata": {},
   "cell_type": "code",
   "source": [
    "# for section in archive.section_list:\n",
    "#     ss = section.settings\n",
    "#\n",
    "#     print(ss.number, ss.name, ss.sub_sections, ss.visible)"
   ],
   "id": "63bac04b39f21ffd",
   "outputs": [],
   "execution_count": null
  }
 ],
 "metadata": {
  "kernelspec": {
   "display_name": "Python 3",
   "language": "python",
   "name": "python3"
  },
  "language_info": {
   "codemirror_mode": {
    "name": "ipython",
    "version": 2
   },
   "file_extension": ".py",
   "mimetype": "text/x-python",
   "name": "python",
   "nbconvert_exporter": "python",
   "pygments_lexer": "ipython2",
   "version": "2.7.6"
  }
 },
 "nbformat": 4,
 "nbformat_minor": 5
}
