{
 "cells": [
  {
   "metadata": {},
   "cell_type": "code",
   "source": [
    "from pathlib import Path\n",
    "import pandas as pd\n",
    "\n",
    "PATH_JSON = Path(\"../Datasets/JSON_files/\")\n",
    "PATH_PICKLE = Path(\"../Datasets/xAPI_logs/PICKLE_files/\")\n",
    "PATH_PREPROC = Path(\"../Datasets/xAPI_logs/PREPROCESSED_files/\")\n",
    "COURSES = [125]\n",
    "\n",
    "for course in COURSES[:1]:\n",
    "    print('Course: ', course)\n",
    "    df = pd.read_pickle(f\"{PATH_PREPROC}/cours_{course}.pkl\")\n",
    "\n",
    "    students = df.loc[(df.CourseID == course) & (df.Role == 'Student')].User.nunique()\n",
    "    teachers = df.loc[\n",
    "        (df.CourseID == course) & ((df.Role == 'Editing Teacher') | (df.Role == 'Teacher'))].User.nunique()\n",
    "    components_to_remove = ['Enrolment', 'Role', 'Groups', 'User profile']\n",
    "    events = len(df.loc[(df.CourseID == course) & (df.Role == 'Student') & (~df.Component.isin(components_to_remove))])\n",
    "\n",
    "    print('students: ', students)\n",
    "    print('teachers: ', teachers)\n",
    "    print('events: ', events)\n",
    "\n",
    "    print(df.loc[(df.CourseID == course) & (df.Role == 'Student') & (\n",
    "        ~df.Component.isin(components_to_remove))].ICAP.value_counts(), '\\n')\n",
    "    print()"
   ],
   "id": "c9664154f43f6751",
   "outputs": [],
   "execution_count": null
  },
  {
   "metadata": {},
   "cell_type": "code",
   "source": "",
   "id": "e3e48791d81d7c51",
   "outputs": [],
   "execution_count": null
  }
 ],
 "metadata": {
  "kernelspec": {
   "display_name": "Python 3",
   "language": "python",
   "name": "python3"
  },
  "language_info": {
   "codemirror_mode": {
    "name": "ipython",
    "version": 2
   },
   "file_extension": ".py",
   "mimetype": "text/x-python",
   "name": "python",
   "nbconvert_exporter": "python",
   "pygments_lexer": "ipython2",
   "version": "2.7.6"
  }
 },
 "nbformat": 4,
 "nbformat_minor": 5
}
