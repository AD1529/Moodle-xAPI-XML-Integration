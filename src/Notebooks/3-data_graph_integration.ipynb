{
 "cells": [
  {
   "cell_type": "code",
   "id": "initial_id",
   "metadata": {
    "collapsed": true
   },
   "source": [
    "from src.Archives.moodle_archive import MoodleArchive\n",
    "from src.Archives.question_bank import *\n",
    "import src.Archives.graph_structure as gs\n",
    "\n",
    "import pandas as pd"
   ],
   "outputs": [],
   "execution_count": null
  },
  {
   "metadata": {},
   "cell_type": "code",
   "source": [
    "courseID = 1\n",
    "#role = 'Teacher'\n",
    "role = 'Student'"
   ],
   "id": "f1b18e8adbe02514",
   "outputs": [],
   "execution_count": null
  },
  {
   "metadata": {},
   "cell_type": "code",
   "source": [
    "ARCHIVE_FILENAME = 'sauvegarde-moodle2-course-1-nu.mbz'\n",
    "ARCHIVE_PATH = os.path.join(\"../Datasets\", \"MoodleCourseBackups\")\n",
    "ARCHIVE_DESTINATION_PATH = os.path.join(\"../Datasets\", \"MoodleCourseArchives\")\n",
    "archive = MoodleArchive(ARCHIVE_PATH, ARCHIVE_FILENAME, ARCHIVE_DESTINATION_PATH)"
   ],
   "id": "3f4d04fd6720994f",
   "outputs": [],
   "execution_count": null
  },
  {
   "metadata": {},
   "cell_type": "code",
   "source": [
    "# course chaptering\n",
    "gs.course_chaptering(archive)"
   ],
   "id": "c188b33ddcd94029",
   "outputs": [],
   "execution_count": null
  },
  {
   "metadata": {},
   "cell_type": "code",
   "source": [
    "course_structure = gs.create_course_structure(archive)\n",
    "figure = gs.plot_graph(course_structure, figsize=(180, 30), textlen=35)"
   ],
   "id": "56460e8045bc65e4",
   "outputs": [],
   "execution_count": null
  },
  {
   "metadata": {},
   "cell_type": "code",
   "source": [
    "PATH = '../Datasets/xAPI_logs/PREPROCESSED_files'\n",
    "df = pd.read_pickle(f\"{PATH}/cours_{courseID}.pkl\")"
   ],
   "id": "f44fac9ac7ced1a0",
   "outputs": [],
   "execution_count": null
  },
  {
   "metadata": {},
   "cell_type": "code",
   "source": [
    "df = df.loc[(df.CourseID == courseID) & ((df.Role == 'Student')\n",
    "                                         | (df.Role == 'Editing Teacher')\n",
    "                                         | (df.Role == 'Teacher'))]\n",
    "\n",
    "df = df[['User', 'Timestamp', 'Context', 'Description', 'Component',\n",
    "         'Event_name', 'ObjectID', 'ItemID', 'QuestionID', 'Status', 'Role', 'Group']]\n"
   ],
   "id": "346a1b63306d8343",
   "outputs": [],
   "execution_count": null
  },
  {
   "metadata": {},
   "cell_type": "code",
   "source": [
    "# select the components to check\n",
    "excluded_components = ['Role', 'Groups', 'Grades', 'User profile', 'Enrolment', 'Attendance']\n",
    "\n",
    "components = list(set(df.Component.unique()) - set(excluded_components))\n",
    "\n",
    "# filter selected components, available activities, and students.\n",
    "df = df.loc[(df.Component.isin(components)) & (df.Status != 'DELETED') & (df.Role.str.contains(role))].copy()\n"
   ],
   "id": "2bb2368502f117f1",
   "outputs": [],
   "execution_count": null
  },
  {
   "metadata": {},
   "cell_type": "code",
   "source": [
    "for node in course_structure.nodes:\n",
    "    settings = course_structure.nodes[node]['settings']\n",
    "    component = node.split('_')[0].capitalize()\n",
    "    if component == 'Assign':\n",
    "        component = 'Assignment'\n",
    "    if component == 'Lti':\n",
    "        component = 'External tool'\n",
    "    if component == 'Resource':\n",
    "        component = 'File'\n",
    "    if component == 'Url':\n",
    "        component = 'URL'\n",
    "    if component == 'Scorm':\n",
    "        component = 'SCORM package'\n",
    "    if component == 'Data':\n",
    "        component = 'Database'\n",
    "    if component == 'Choicegroup':\n",
    "        component = 'Group choice'\n",
    "    if component in components and node != 'course':\n",
    "        object_id = int(node.split('_')[1])\n",
    "        condition = (df.Component == component) & (df.ObjectID == object_id)\n",
    "        df.loc[\n",
    "            condition, 'Context'] = settings.name  # TODO: remove in the final code, but here is needed to fix hashing \"context\" errors.\n",
    "        df.loc[condition, 'Visibility'] = settings.visible\n",
    "        df.loc[condition, 'Availability'] = settings.availability\n",
    "        df.loc[condition, 'Section_number'] = settings.sectionnumber\n",
    "\n",
    "df.loc[(df.Component == 'Course'), 'Visibility'] = True\n",
    "df.loc[(df.Component == 'Course'), 'Section_number'] = -1\n",
    "\n",
    "for section in archive.section_list:\n",
    "    number = section.settings.number\n",
    "    name = section.settings.name\n",
    "    df.loc[df.Section_number == number, 'Section_name'] = name\n",
    "\n",
    "df.loc[df.Section_number == -1, 'Section_name'] = 'Home page'\n"
   ],
   "id": "8990e5930b59b980",
   "outputs": [],
   "execution_count": null
  },
  {
   "metadata": {},
   "cell_type": "code",
   "source": [
    "PATH_GRAPH = '../Datasets/Graph_Integrated_Logs'\n",
    "df.to_pickle(f\"{PATH_GRAPH}/course_{courseID}_{role}_graph_integrated.pkl\")\n"
   ],
   "id": "9acffccff92db3e9",
   "outputs": [],
   "execution_count": null
  },
  {
   "metadata": {},
   "cell_type": "code",
   "source": "",
   "id": "6dd64ff60014edb0",
   "outputs": [],
   "execution_count": null
  }
 ],
 "metadata": {
  "kernelspec": {
   "display_name": "Python 3",
   "language": "python",
   "name": "python3"
  },
  "language_info": {
   "codemirror_mode": {
    "name": "ipython",
    "version": 2
   },
   "file_extension": ".py",
   "mimetype": "text/x-python",
   "name": "python",
   "nbconvert_exporter": "python",
   "pygments_lexer": "ipython2",
   "version": "2.7.6"
  }
 },
 "nbformat": 4,
 "nbformat_minor": 5
}
